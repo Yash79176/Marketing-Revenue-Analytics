{
 "cells": [
  {
   "cell_type": "markdown",
   "id": "784e5b4a-56ab-4b16-b7ae-bdad37ce3101",
   "metadata": {},
   "source": [
    "# Marketing and Revenue Analytics"
   ]
  },
  {
   "cell_type": "code",
   "execution_count": 35,
   "id": "502e1bcf-5a57-4b18-ac7b-bb7f52c885a8",
   "metadata": {},
   "outputs": [],
   "source": [
    "import pandas as pd"
   ]
  },
  {
   "cell_type": "code",
   "execution_count": 11,
   "id": "b5a90bb2-b60e-4a76-9100-fc91055f9ed2",
   "metadata": {},
   "outputs": [],
   "source": [
    "df = pd.read_excel(r'C:\\Users\\Asus\\OneDrive\\Desktop\\Marketing and Revenue Analytics\\Marketing&RevenueAnalytics_Project\\online Retail Data.xlsx')"
   ]
  },
  {
   "cell_type": "code",
   "execution_count": 12,
   "id": "e92b3c37-1da6-40e2-872a-41711ac90641",
   "metadata": {},
   "outputs": [
    {
     "name": "stdout",
     "output_type": "stream",
     "text": [
      "  InvoiceNo StockCode                          Description  Quantity  \\\n",
      "0    536365    85123A   WHITE HANGING HEART T-LIGHT HOLDER         6   \n",
      "1    536365     71053                  WHITE METAL LANTERN         6   \n",
      "2    536365    84406B       CREAM CUPID HEARTS COAT HANGER         8   \n",
      "3    536365    84029G  KNITTED UNION FLAG HOT WATER BOTTLE         6   \n",
      "4    536365    84029E       RED WOOLLY HOTTIE WHITE HEART.         6   \n",
      "\n",
      "          InvoiceDate  UnitPrice  CustomerID         Country  \n",
      "0 2010-12-01 08:26:00       2.55     17850.0  United Kingdom  \n",
      "1 2010-12-01 08:26:00       3.39     17850.0  United Kingdom  \n",
      "2 2010-12-01 08:26:00       2.75     17850.0  United Kingdom  \n",
      "3 2010-12-01 08:26:00       3.39     17850.0  United Kingdom  \n",
      "4 2010-12-01 08:26:00       3.39     17850.0  United Kingdom  \n"
     ]
    }
   ],
   "source": [
    "print(df.head())"
   ]
  },
  {
   "cell_type": "code",
   "execution_count": 31,
   "id": "8e9c9ac6-bb7e-4e36-bc4e-2f74391ca391",
   "metadata": {},
   "outputs": [],
   "source": [
    "# Data Cleaning\n",
    "df.dropna(subset = ['CustomerID'], inplace = True)\n",
    "\n",
    "# Fiter out negative and zero Quantity and UnitPrices\n",
    "df = df[(df['Quantity'] > 0) & (df['UnitPrice'] > 0)]\n",
    "\n",
    "# Convert Invoice Date to DateTime\n",
    "df['InvoiceDate'] = pd.to_datetime(df['InvoiceDate'])"
   ]
  },
  {
   "cell_type": "code",
   "execution_count": 33,
   "id": "d39a3b85-0d0f-4e17-a2ea-ae513e4415eb",
   "metadata": {},
   "outputs": [
    {
     "name": "stdout",
     "output_type": "stream",
     "text": [
      "  InvoiceNo StockCode                          Description  Quantity  \\\n",
      "0    536365    85123A   WHITE HANGING HEART T-LIGHT HOLDER         6   \n",
      "1    536365     71053                  WHITE METAL LANTERN         6   \n",
      "2    536365    84406B       CREAM CUPID HEARTS COAT HANGER         8   \n",
      "3    536365    84029G  KNITTED UNION FLAG HOT WATER BOTTLE         6   \n",
      "4    536365    84029E       RED WOOLLY HOTTIE WHITE HEART.         6   \n",
      "\n",
      "          InvoiceDate  UnitPrice  CustomerID         Country  \n",
      "0 2010-12-01 08:26:00       2.55     17850.0  United Kingdom  \n",
      "1 2010-12-01 08:26:00       3.39     17850.0  United Kingdom  \n",
      "2 2010-12-01 08:26:00       2.75     17850.0  United Kingdom  \n",
      "3 2010-12-01 08:26:00       3.39     17850.0  United Kingdom  \n",
      "4 2010-12-01 08:26:00       3.39     17850.0  United Kingdom  \n"
     ]
    }
   ],
   "source": [
    "print(df.head())"
   ]
  },
  {
   "cell_type": "markdown",
   "id": "c7f0ca25-137f-42e1-9ff7-15bd3b1fc099",
   "metadata": {},
   "source": [
    "# Customer Segmentation"
   ]
  },
  {
   "cell_type": "code",
   "execution_count": 55,
   "id": "7398b3d0-97a4-43cc-b799-a5c06d0253e7",
   "metadata": {},
   "outputs": [],
   "source": [
    "# RFM Analysis: Calculate Recency, Frequency, and Monetary values for each customer.\n",
    "import datetime as dt\n",
    "\n",
    "ref_date = df['InvoiceDate'].max() + dt.timedelta(days=1)\n",
    "\n",
    "#Calculate the RFM Metrics\n",
    "RFM = df.groupby('CustomerID').agg({\n",
    "    'InvoiceDate': lambda x: (ref_date - x.max()).days,\n",
    "    'InvoiceNo': 'nunique',\n",
    "    'UnitPrice': 'sum'\n",
    "}).rename(columns = {'InvoiceDate': 'Recency', 'InvoiceNo':'Frequency', 'UnitPrice': 'Monetary'})"
   ]
  },
  {
   "cell_type": "code",
   "execution_count": 57,
   "id": "22d7281b-a392-4740-8978-6b1125a0730a",
   "metadata": {},
   "outputs": [
    {
     "name": "stdout",
     "output_type": "stream",
     "text": [
      "            Recency  Frequency  Monetary\n",
      "CustomerID                              \n",
      "12346.0         326          1      1.04\n",
      "12347.0           2          7    481.21\n",
      "12348.0          75          4    178.71\n",
      "12349.0          19          1    605.10\n",
      "12350.0         310          1     65.30\n",
      "...             ...        ...       ...\n",
      "18280.0         278          1     47.65\n",
      "18281.0         181          1     39.36\n",
      "18282.0           8          2     62.39\n",
      "18283.0           4         16   1220.93\n",
      "18287.0          43          3    104.55\n",
      "\n",
      "[4338 rows x 3 columns]\n"
     ]
    }
   ],
   "source": [
    "print(RFM)"
   ]
  },
  {
   "cell_type": "markdown",
   "id": "c9cb1b6c-46f7-4668-9fda-d00d1cd0547e",
   "metadata": {},
   "source": [
    "# K-Means Clustering: Segment customers based on RFM scores"
   ]
  },
  {
   "cell_type": "code",
   "execution_count": 60,
   "id": "a214f7e1-4beb-4c79-a7f4-cb3f9e05b0e2",
   "metadata": {},
   "outputs": [],
   "source": [
    "from sklearn.preprocessing import StandardScaler\n",
    "from sklearn.cluster import KMeans"
   ]
  },
  {
   "cell_type": "code",
   "execution_count": 77,
   "id": "5b2a5391-9640-4c7c-9e7d-381edeeb58c4",
   "metadata": {},
   "outputs": [],
   "source": [
    "scaler = StandardScaler()\n",
    "rfm_scaled = scaler.fit_transform(RFM)\n",
    "\n",
    "kmeans = KMeans(n_clusters = 4, random_state = 42)\n",
    "RFM['Cluster'] = kmeans.fit_predict(rfm_scaled)"
   ]
  },
  {
   "cell_type": "code",
   "execution_count": 79,
   "id": "6a53a3b5-df49-4e62-afbf-1caed2a14d1f",
   "metadata": {},
   "outputs": [
    {
     "name": "stdout",
     "output_type": "stream",
     "text": [
      "            Recency  Frequency  Monetary  Cluster  AvgPurchaseValue  Tenure  \\\n",
      "CustomerID                                                                    \n",
      "12346.0         326          1      1.04        1          1.040000     326   \n",
      "12347.0           2          7    481.21        3         68.744286     367   \n",
      "12348.0          75          4    178.71        3         44.677500     358   \n",
      "12349.0          19          1    605.10        0        605.100000      19   \n",
      "12350.0         310          1     65.30        1         65.300000     310   \n",
      "\n",
      "            Churn  \n",
      "CustomerID         \n",
      "12346.0         1  \n",
      "12347.0         0  \n",
      "12348.0         0  \n",
      "12349.0         0  \n",
      "12350.0         1  \n"
     ]
    }
   ],
   "source": [
    "print(RFM.head())"
   ]
  },
  {
   "cell_type": "code",
   "execution_count": 70,
   "id": "6453bf0b-6f8d-4285-a74b-dcd189ecc03d",
   "metadata": {},
   "outputs": [
    {
     "name": "stdout",
     "output_type": "stream",
     "text": [
      "CustomerID\n",
      "12346.0    1\n",
      "12347.0    0\n",
      "12348.0    0\n",
      "12349.0    0\n",
      "12350.0    1\n",
      "          ..\n",
      "18280.0    1\n",
      "18281.0    1\n",
      "18282.0    0\n",
      "18283.0    3\n",
      "18287.0    0\n",
      "Name: Cluster, Length: 4338, dtype: int32\n"
     ]
    }
   ],
   "source": [
    "print(RFM['Cluster'])"
   ]
  },
  {
   "cell_type": "markdown",
   "id": "a4c10c6a-d585-4de2-95a2-33683257d119",
   "metadata": {},
   "source": [
    "# Churn Prediction"
   ]
  },
  {
   "cell_type": "code",
   "execution_count": 73,
   "id": "5827beff-7562-4c63-8495-2411747b7479",
   "metadata": {},
   "outputs": [],
   "source": [
    "# Feature Engineering: Create features such as average purchase value, purchase frequency, and tenure.\n",
    "# Calculate Additional Features\n",
    "RFM['AvgPurchaseValue'] = RFM['Monetary']/RFM['Frequency']\n",
    "RFM['Tenure'] = (ref_date - df.groupby('CustomerID')['InvoiceDate'].min()).dt.days"
   ]
  },
  {
   "cell_type": "code",
   "execution_count": 75,
   "id": "10736913-4286-44e7-a6c5-3fd8a29db2df",
   "metadata": {},
   "outputs": [],
   "source": [
    "# Label Definition: Define churn based on a recency threshold.\n",
    "# Define churn: Customers who haven't purchased in the last 90 days\n",
    "RFM['Churn'] = (RFM['Recency'] > 90).astype(int)"
   ]
  },
  {
   "cell_type": "code",
   "execution_count": 81,
   "id": "792ffb18-fc8d-4941-9532-7b16cd3a3602",
   "metadata": {},
   "outputs": [
    {
     "name": "stdout",
     "output_type": "stream",
     "text": [
      "              precision    recall  f1-score   support\n",
      "\n",
      "           0       1.00      1.00      1.00       865\n",
      "           1       1.00      1.00      1.00       437\n",
      "\n",
      "    accuracy                           1.00      1302\n",
      "   macro avg       1.00      1.00      1.00      1302\n",
      "weighted avg       1.00      1.00      1.00      1302\n",
      "\n"
     ]
    }
   ],
   "source": [
    "# Model Training: Use Random Forest or XGBoost to predict churn.\n",
    "from sklearn.model_selection import train_test_split\n",
    "from sklearn.ensemble import RandomForestClassifier\n",
    "from sklearn.metrics import classification_report\n",
    "\n",
    "# Define features and target\n",
    "X = RFM[['Recency', 'Frequency', 'Monetary', 'AvgPurchaseValue', 'Tenure']]\n",
    "y = RFM['Churn']\n",
    "\n",
    "X_train, X_test, y_train, y_test = train_test_split(X, y, test_size = 0.3, random_state = 42)\n",
    "# Train Random Forest\n",
    "rf = RandomForestClassifier(random_state=42)\n",
    "rf.fit(X_train, y_train)\n",
    "\n",
    "# Predictions and evaluation\n",
    "y_pred = rf.predict(X_test)\n",
    "print(classification_report(y_test, y_pred))"
   ]
  },
  {
   "cell_type": "markdown",
   "id": "9fd0d1ea-e3bd-4579-82ac-87451a5329f8",
   "metadata": {},
   "source": [
    "# Revenue Forecasting"
   ]
  },
  {
   "cell_type": "code",
   "execution_count": 114,
   "id": "f8c0ae0e-9b3d-4759-b3ed-97925993bda7",
   "metadata": {},
   "outputs": [
    {
     "name": "stderr",
     "output_type": "stream",
     "text": [
      "C:\\Users\\Asus\\AppData\\Local\\Temp\\ipykernel_15744\\2350336666.py:7: FutureWarning: 'M' is deprecated and will be removed in a future version, please use 'ME' instead.\n",
      "  monthly_sales = df.resample('M', on = 'InvoiceDate')['Sales'].sum()\n"
     ]
    },
    {
     "name": "stdout",
     "output_type": "stream",
     "text": [
      "<statsmodels.tsa.arima.model.ARIMA object at 0x0000025565670E60>\n"
     ]
    },
    {
     "name": "stderr",
     "output_type": "stream",
     "text": [
      "C:\\Users\\Asus\\AppData\\Local\\Temp\\ipykernel_15744\\2350336666.py:16: FutureWarning: 'M' is deprecated and will be removed in a future version, please use 'ME' instead.\n",
      "  forecast_index = pd.date_range(start = monthly_sales.index[-1], periods = 12, freq = 'M')\n"
     ]
    },
    {
     "data": {
      "image/png": "[encoded data removed]",
      "text/plain": [
       "<Figure size 1000x600 with 1 Axes>"
      ]
     },
     "metadata": {},
     "output_type": "display_data"
    }
   ],
   "source": [
    "# Time Series Analysis: Aggregate sales data monthly and apply ARIMA or Prophet for forecasting.\n",
    "from statsmodels.tsa.arima.model import ARIMA\n",
    "import matplotlib.pyplot as plt\n",
    "\n",
    "# Aggregate Monthly sales\n",
    "df['Sales'] = df['Quantity'] * df['UnitPrice']\n",
    "monthly_sales = df.resample('M', on = 'InvoiceDate')['Sales'].sum()\n",
    "\n",
    "# Fit ARIMA model\n",
    "model = ARIMA(monthly_sales, order = (1,1,1))\n",
    "print(model)\n",
    "results = model.fit()\n",
    "\n",
    "# Forecast\n",
    "forecast = results.get_forecast(steps = 12)\n",
    "forecast_index = pd.date_range(start = monthly_sales.index[-1], periods = 12, freq = 'M')\n",
    "forecast_series = pd.Series(forecast.predicted_mean, index = forecast_index)\n",
    "\n",
    "# Plot\n",
    "plt.figure(figsize = (10,6))\n",
    "plt.plot(monthly_sales, label = 'Actual Sales')\n",
    "plt.plot(forecast_series, label = 'Forecasted Sales', color = 'red')\n",
    "plt.fill_between(forecast_index, forecast.conf_int().iloc[:, 0], forecast.conf_int().iloc[:, 1], color='pink')\n",
    "plt.legend()\n",
    "plt.show()"
   ]
  },
  {
   "cell_type": "markdown",
   "id": "168b17b0-2294-4e52-a195-54f1b002beb3",
   "metadata": {},
   "source": [
    "#  Price Elasticity & Promotional Impact"
   ]
  },
  {
   "cell_type": "code",
   "execution_count": 121,
   "id": "735cfbbe-2a7e-479d-b48a-73cac05886c5",
   "metadata": {},
   "outputs": [
    {
     "name": "stderr",
     "output_type": "stream",
     "text": [
      "C:\\Users\\Asus\\anaconda3\\Lib\\site-packages\\numpy\\lib\\function_base.py:2897: RuntimeWarning: invalid value encountered in divide\n",
      "  c /= stddev[:, None]\n",
      "C:\\Users\\Asus\\anaconda3\\Lib\\site-packages\\numpy\\lib\\function_base.py:2898: RuntimeWarning: invalid value encountered in divide\n",
      "  c /= stddev[None, :]\n",
      "C:\\Users\\Asus\\anaconda3\\Lib\\site-packages\\numpy\\lib\\function_base.py:2889: RuntimeWarning: Degrees of freedom <= 0 for slice\n",
      "  c = cov(x, y, rowvar, dtype=dtype)\n",
      "C:\\Users\\Asus\\anaconda3\\Lib\\site-packages\\numpy\\lib\\function_base.py:2748: RuntimeWarning: divide by zero encountered in divide\n",
      "  c *= np.true_divide(1, fact)\n",
      "C:\\Users\\Asus\\anaconda3\\Lib\\site-packages\\numpy\\lib\\function_base.py:2748: RuntimeWarning: invalid value encountered in multiply\n",
      "  c *= np.true_divide(1, fact)\n",
      "C:\\Users\\Asus\\AppData\\Local\\Temp\\ipykernel_15744\\3307339204.py:5: DeprecationWarning: DataFrameGroupBy.apply operated on the grouping columns. This behavior is deprecated, and in a future version of pandas the grouping columns will be excluded from the operation. Either pass `include_groups=False` to exclude the groupings or explicitly select the grouping columns after groupby to silence this warning.\n",
      "  price_elasticity = df.groupby('StockCode').apply(lambda x:np.corrcoef(x['UnitPrice'],x['Quantity'])[0, 1]).rename('PriceElasticity')\n"
     ]
    }
   ],
   "source": [
    "# Analysis: Examine how changes in price affect sales volume.\n",
    "# Calculate Price Elasticity\n",
    "import numpy as np\n",
    "df['Revenue'] = df['Quantity'] * df['UnitPrice']\n",
    "price_elasticity = df.groupby('StockCode').apply(lambda x:np.corrcoef(x['UnitPrice'],x['Quantity'])[0, 1]).rename('PriceElasticity')"
   ]
  },
  {
   "cell_type": "markdown",
   "id": "6b1dd1b2-0aa7-4128-b1d1-cbb784d36949",
   "metadata": {},
   "source": [
    "# Customer Lifetime Value (CLV) Prediction"
   ]
  },
  {
   "cell_type": "code",
   "execution_count": 144,
   "id": "e372dc09-5c09-434f-aeb4-d871322d44d7",
   "metadata": {},
   "outputs": [],
   "source": [
    "# CLV Calculation: Estimate future revenue from customers.\n",
    "# Average purchase value\n",
    "RFM['AvgPurchaseValue'] = RFM['Monetary'] / RFM['Frequency']\n",
    "\n",
    "# Purchase frequency\n",
    "purchase_frequency = RFM['Frequency']"
   ]
  },
  {
   "cell_type": "code",
   "execution_count": 146,
   "id": "fc9615ea-a42b-4e09-9de3-8d4c949badb5",
   "metadata": {},
   "outputs": [
    {
     "name": "stdout",
     "output_type": "stream",
     "text": [
      "CustomerID\n",
      "12346.0     1\n",
      "12347.0     7\n",
      "12348.0     4\n",
      "12349.0     1\n",
      "12350.0     1\n",
      "           ..\n",
      "18280.0     1\n",
      "18281.0     1\n",
      "18282.0     2\n",
      "18283.0    16\n",
      "18287.0     3\n",
      "Name: Frequency, Length: 4338, dtype: int64\n"
     ]
    }
   ],
   "source": [
    "print(purchase_frequency)"
   ]
  },
  {
   "cell_type": "code",
   "execution_count": null,
   "id": "9ec7acd1-447b-4139-a49f-6693f0e74c15",
   "metadata": {},
   "outputs": [],
   "source": []
  }
 ],
 "metadata": {
  "kernelspec": {
   "display_name": "Python 3 (ipykernel)",
   "language": "python",
   "name": "python3"
  },
  "language_info": {
   "codemirror_mode": {
    "name": "ipython",
    "version": 3
   },
   "file_extension": ".py",
   "mimetype": "text/x-python",
   "name": "python",
   "nbconvert_exporter": "python",
   "pygments_lexer": "ipython3",
   "version": "3.12.7"
  }
 },
 "nbformat": 4,
 "nbformat_minor": 5
}
